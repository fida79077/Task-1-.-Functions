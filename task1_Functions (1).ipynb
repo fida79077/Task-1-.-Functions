{
  "nbformat": 4,
  "nbformat_minor": 0,
  "metadata": {
    "colab": {
      "provenance": []
    },
    "kernelspec": {
      "name": "python3",
      "display_name": "Python 3"
    },
    "language_info": {
      "name": "python"
    }
  },
  "cells": [
    {
      "cell_type": "code",
      "source": [
        "\n",
        "\n",
        "def validate_pin(pin):\n",
        "    res = ''\n",
        "    count = 0\n",
        "    flag_digi = 0\n",
        "\n",
        "    for i in pin:\n",
        "        count += 1\n",
        "\n",
        "        if i not in ['1', '3', '5', '7', '9']:\n",
        "            flag_digi = 1\n",
        "\n",
        "    if flag_digi == 0:\n",
        "        if count == 4 or count == 6:\n",
        "            res = 'valid'\n",
        "        else:\n",
        "            res = 'invalid'\n",
        "    else:\n",
        "        return 'invalid'\n",
        "\n",
        "    return res\n",
        "\n",
        "print(validate_pin('1346'))"
      ],
      "metadata": {
        "id": "YRC75pQFxeVg",
        "outputId": "5a3a5b34-f691-475f-c056-54344dc0893b",
        "colab": {
          "base_uri": "https://localhost:8080/"
        }
      },
      "execution_count": null,
      "outputs": [
        {
          "output_type": "stream",
          "name": "stdout",
          "text": [
            "invalid\n"
          ]
        }
      ]
    }
  ]
}